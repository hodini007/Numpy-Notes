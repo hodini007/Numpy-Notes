{
  "nbformat": 4,
  "nbformat_minor": 0,
  "metadata": {
    "colab": {
      "provenance": []
    },
    "kernelspec": {
      "name": "python3",
      "display_name": "Python 3"
    },
    "language_info": {
      "name": "python"
    }
  },
  "cells": [
    {
      "cell_type": "code",
      "execution_count": 2,
      "metadata": {
        "colab": {
          "base_uri": "https://localhost:8080/"
        },
        "id": "tDxHX-PE6YwP",
        "outputId": "89ca132f-52af-49da-c8a3-127c4162a516"
      },
      "outputs": [
        {
          "output_type": "stream",
          "name": "stdout",
          "text": [
            "Requirement already satisfied: numpy in /usr/local/lib/python3.12/dist-packages (2.0.2)\n"
          ]
        }
      ],
      "source": [
        "!pip install numpy"
      ]
    },
    {
      "cell_type": "code",
      "source": [
        "import numpy as np"
      ],
      "metadata": {
        "id": "d6oIveY2BJ4R"
      },
      "execution_count": 3,
      "outputs": []
    },
    {
      "cell_type": "code",
      "source": [
        "arr=np.array([[65,4,6,54,654,65,46,546,54,65,46,546,54,654,65,465,46,54,654,654]],np.int64)"
      ],
      "metadata": {
        "id": "JKM39pRxCyZl"
      },
      "execution_count": 6,
      "outputs": []
    },
    {
      "cell_type": "code",
      "source": [
        "arr.shape"
      ],
      "metadata": {
        "colab": {
          "base_uri": "https://localhost:8080/"
        },
        "id": "chkGQxW2DEWv",
        "outputId": "cdff7ad1-3d34-4e89-fe17-d596bb91996d"
      },
      "execution_count": 7,
      "outputs": [
        {
          "output_type": "execute_result",
          "data": {
            "text/plain": [
              "(1, 20)"
            ]
          },
          "metadata": {},
          "execution_count": 7
        }
      ]
    },
    {
      "cell_type": "code",
      "source": [
        "arr.dtype"
      ],
      "metadata": {
        "colab": {
          "base_uri": "https://localhost:8080/"
        },
        "id": "sez-gU1kDMO7",
        "outputId": "1e9e53a4-ea5d-47ba-e4ae-9ac2ff71b8da"
      },
      "execution_count": 8,
      "outputs": [
        {
          "output_type": "execute_result",
          "data": {
            "text/plain": [
              "dtype('int64')"
            ]
          },
          "metadata": {},
          "execution_count": 8
        }
      ]
    },
    {
      "cell_type": "code",
      "source": [
        "arr[0,3]=69"
      ],
      "metadata": {
        "id": "bJmQSie2DPCB"
      },
      "execution_count": 10,
      "outputs": []
    },
    {
      "cell_type": "code",
      "source": [
        "arr[0,3]"
      ],
      "metadata": {
        "colab": {
          "base_uri": "https://localhost:8080/"
        },
        "id": "cD1a9N_hDY6q",
        "outputId": "31564002-cc1d-46d1-c01a-639dfd3c6afa"
      },
      "execution_count": 11,
      "outputs": [
        {
          "output_type": "execute_result",
          "data": {
            "text/plain": [
              "np.int64(69)"
            ]
          },
          "metadata": {},
          "execution_count": 11
        }
      ]
    },
    {
      "cell_type": "markdown",
      "source": [
        "## there are 5 types of method to create a numpy array"
      ],
      "metadata": {
        "id": "qfSyJcnqD0AC"
      }
    },
    {
      "cell_type": "markdown",
      "source": [
        "# 1. conversion for other python structures"
      ],
      "metadata": {
        "id": "dNkBTpQoEI4x"
      }
    },
    {
      "cell_type": "code",
      "source": [
        "listarr=np.array([[54,654,65,5],[654,564,654,654],[654,654,654,654],[654,56498,7,321]])"
      ],
      "metadata": {
        "id": "Sg_auEuAER0v"
      },
      "execution_count": 15,
      "outputs": []
    },
    {
      "cell_type": "code",
      "source": [
        "listarr.shape"
      ],
      "metadata": {
        "colab": {
          "base_uri": "https://localhost:8080/"
        },
        "id": "QMCaoKa5EuAs",
        "outputId": "61665ab8-9468-4600-a350-ae3ab0878804"
      },
      "execution_count": 13,
      "outputs": [
        {
          "output_type": "execute_result",
          "data": {
            "text/plain": [
              "(4, 4)"
            ]
          },
          "metadata": {},
          "execution_count": 13
        }
      ]
    },
    {
      "cell_type": "code",
      "source": [
        "listarr.size"
      ],
      "metadata": {
        "colab": {
          "base_uri": "https://localhost:8080/"
        },
        "id": "AcsjpGMeE3zQ",
        "outputId": "84e8fb15-4293-4d5b-ce0f-fd48304aed02"
      },
      "execution_count": 20,
      "outputs": [
        {
          "output_type": "execute_result",
          "data": {
            "text/plain": [
              "16"
            ]
          },
          "metadata": {},
          "execution_count": 20
        }
      ]
    },
    {
      "cell_type": "code",
      "source": [
        "np.array({654,84,684,64,5,4}) ## set makes object, using the int and float architechture will be most suitable\n"
      ],
      "metadata": {
        "colab": {
          "base_uri": "https://localhost:8080/"
        },
        "id": "Gn7OnVcPFNcS",
        "outputId": "b75bc252-52e9-473c-aea2-fd42b4dfeb6f"
      },
      "execution_count": 23,
      "outputs": [
        {
          "output_type": "execute_result",
          "data": {
            "text/plain": [
              "array({64, 4, 5, 84, 684, 654}, dtype=object)"
            ]
          },
          "metadata": {},
          "execution_count": 23
        }
      ]
    },
    {
      "cell_type": "markdown",
      "source": [
        "##2.intrinsic numpy array creation object"
      ],
      "metadata": {
        "id": "OK6D0cZxF88t"
      }
    },
    {
      "cell_type": "code",
      "source": [
        "z=np.zeros((6,9))"
      ],
      "metadata": {
        "id": "469dFI_TGHwM"
      },
      "execution_count": 24,
      "outputs": []
    },
    {
      "cell_type": "code",
      "source": [
        "z"
      ],
      "metadata": {
        "colab": {
          "base_uri": "https://localhost:8080/"
        },
        "id": "jjp2aD8CGboc",
        "outputId": "477e32fd-918b-48e8-9a2d-073f6a73e62b"
      },
      "execution_count": 25,
      "outputs": [
        {
          "output_type": "execute_result",
          "data": {
            "text/plain": [
              "array([[0., 0., 0., 0., 0., 0., 0., 0., 0.],\n",
              "       [0., 0., 0., 0., 0., 0., 0., 0., 0.],\n",
              "       [0., 0., 0., 0., 0., 0., 0., 0., 0.],\n",
              "       [0., 0., 0., 0., 0., 0., 0., 0., 0.],\n",
              "       [0., 0., 0., 0., 0., 0., 0., 0., 0.],\n",
              "       [0., 0., 0., 0., 0., 0., 0., 0., 0.]])"
            ]
          },
          "metadata": {},
          "execution_count": 25
        }
      ]
    },
    {
      "cell_type": "code",
      "source": [
        "rng=np.arange(15)\n",
        "rng\n",
        "rng.dtype"
      ],
      "metadata": {
        "colab": {
          "base_uri": "https://localhost:8080/"
        },
        "id": "YNh2SvRfGmVI",
        "outputId": "78f8a467-74be-483d-90e6-92b4c00c39d8"
      },
      "execution_count": 28,
      "outputs": [
        {
          "output_type": "execute_result",
          "data": {
            "text/plain": [
              "dtype('int64')"
            ]
          },
          "metadata": {},
          "execution_count": 28
        }
      ]
    },
    {
      "cell_type": "code",
      "source": [
        "lspace =np.linspace(1,15,10) ## will provide 10 equally spaced values between 1 to 15\n",
        "lspace"
      ],
      "metadata": {
        "colab": {
          "base_uri": "https://localhost:8080/"
        },
        "id": "yf1V7-0LG7ct",
        "outputId": "1163816c-ff40-4cd9-d930-dce0613c9ae7"
      },
      "execution_count": 30,
      "outputs": [
        {
          "output_type": "execute_result",
          "data": {
            "text/plain": [
              "array([ 1.        ,  2.55555556,  4.11111111,  5.66666667,  7.22222222,\n",
              "        8.77777778, 10.33333333, 11.88888889, 13.44444444, 15.        ])"
            ]
          },
          "metadata": {},
          "execution_count": 30
        }
      ]
    },
    {
      "cell_type": "code",
      "source": [
        "emp=np.empty((2,3))\n",
        "emp## generate with random numbers"
      ],
      "metadata": {
        "colab": {
          "base_uri": "https://localhost:8080/"
        },
        "id": "ZWY6OA7dRwPB",
        "outputId": "376135f6-e673-454b-95a8-172716e44441"
      },
      "execution_count": 36,
      "outputs": [
        {
          "output_type": "execute_result",
          "data": {
            "text/plain": [
              "array([[5.68292349e-316, 0.00000000e+000, 6.68530621e-310],\n",
              "       [6.68530622e-310, 5.75699520e-317, 5.75600311e-317]])"
            ]
          },
          "metadata": {},
          "execution_count": 36
        }
      ]
    },
    {
      "cell_type": "code",
      "source": [
        "idt=np.identity(3)# 3x3 identity matrix\n",
        "idt"
      ],
      "metadata": {
        "colab": {
          "base_uri": "https://localhost:8080/"
        },
        "id": "gpQQZ5egSk_F",
        "outputId": "2c3e5e21-4f94-418c-cb7a-3c38a7716927"
      },
      "execution_count": 40,
      "outputs": [
        {
          "output_type": "execute_result",
          "data": {
            "text/plain": [
              "array([[1., 0., 0.],\n",
              "       [0., 1., 0.],\n",
              "       [0., 0., 1.]])"
            ]
          },
          "metadata": {},
          "execution_count": 40
        }
      ]
    },
    {
      "cell_type": "code",
      "source": [
        "a=np.arange(99)\n",
        "a"
      ],
      "metadata": {
        "colab": {
          "base_uri": "https://localhost:8080/"
        },
        "id": "zRsQ-qMjT73D",
        "outputId": "5049d717-c6e1-4ceb-a613-b36ffd7693ee"
      },
      "execution_count": 70,
      "outputs": [
        {
          "output_type": "execute_result",
          "data": {
            "text/plain": [
              "array([ 0,  1,  2,  3,  4,  5,  6,  7,  8,  9, 10, 11, 12, 13, 14, 15, 16,\n",
              "       17, 18, 19, 20, 21, 22, 23, 24, 25, 26, 27, 28, 29, 30, 31, 32, 33,\n",
              "       34, 35, 36, 37, 38, 39, 40, 41, 42, 43, 44, 45, 46, 47, 48, 49, 50,\n",
              "       51, 52, 53, 54, 55, 56, 57, 58, 59, 60, 61, 62, 63, 64, 65, 66, 67,\n",
              "       68, 69, 70, 71, 72, 73, 74, 75, 76, 77, 78, 79, 80, 81, 82, 83, 84,\n",
              "       85, 86, 87, 88, 89, 90, 91, 92, 93, 94, 95, 96, 97, 98])"
            ]
          },
          "metadata": {},
          "execution_count": 70
        }
      ]
    },
    {
      "cell_type": "code",
      "source": [
        "a=a.reshape(3,33)# only if the distribution is valid , ig. here 3x33 =99 , so we can reshape this\n",
        "a"
      ],
      "metadata": {
        "colab": {
          "base_uri": "https://localhost:8080/"
        },
        "id": "ETWrfDKpUHGg",
        "outputId": "c61452de-6a31-4512-f1c9-b467ad5fde29"
      },
      "execution_count": 71,
      "outputs": [
        {
          "output_type": "execute_result",
          "data": {
            "text/plain": [
              "array([[ 0,  1,  2,  3,  4,  5,  6,  7,  8,  9, 10, 11, 12, 13, 14, 15,\n",
              "        16, 17, 18, 19, 20, 21, 22, 23, 24, 25, 26, 27, 28, 29, 30, 31,\n",
              "        32],\n",
              "       [33, 34, 35, 36, 37, 38, 39, 40, 41, 42, 43, 44, 45, 46, 47, 48,\n",
              "        49, 50, 51, 52, 53, 54, 55, 56, 57, 58, 59, 60, 61, 62, 63, 64,\n",
              "        65],\n",
              "       [66, 67, 68, 69, 70, 71, 72, 73, 74, 75, 76, 77, 78, 79, 80, 81,\n",
              "        82, 83, 84, 85, 86, 87, 88, 89, 90, 91, 92, 93, 94, 95, 96, 97,\n",
              "        98]])"
            ]
          },
          "metadata": {},
          "execution_count": 71
        }
      ]
    },
    {
      "cell_type": "code",
      "source": [
        "a=a.ravel()\n",
        "a           # to make this an 1D array"
      ],
      "metadata": {
        "colab": {
          "base_uri": "https://localhost:8080/"
        },
        "id": "AUMq7zMFUahB",
        "outputId": "ef35861b-db9e-4099-9bc0-4618804ae861"
      },
      "execution_count": 72,
      "outputs": [
        {
          "output_type": "execute_result",
          "data": {
            "text/plain": [
              "array([ 0,  1,  2,  3,  4,  5,  6,  7,  8,  9, 10, 11, 12, 13, 14, 15, 16,\n",
              "       17, 18, 19, 20, 21, 22, 23, 24, 25, 26, 27, 28, 29, 30, 31, 32, 33,\n",
              "       34, 35, 36, 37, 38, 39, 40, 41, 42, 43, 44, 45, 46, 47, 48, 49, 50,\n",
              "       51, 52, 53, 54, 55, 56, 57, 58, 59, 60, 61, 62, 63, 64, 65, 66, 67,\n",
              "       68, 69, 70, 71, 72, 73, 74, 75, 76, 77, 78, 79, 80, 81, 82, 83, 84,\n",
              "       85, 86, 87, 88, 89, 90, 91, 92, 93, 94, 95, 96, 97, 98])"
            ]
          },
          "metadata": {},
          "execution_count": 72
        }
      ]
    },
    {
      "cell_type": "code",
      "source": [
        "a2=np.array([[2,4,6],\n",
        "             [5,4,6],\n",
        "             [6,9,7]])"
      ],
      "metadata": {
        "id": "vU0-RIH3Uvw1"
      },
      "execution_count": 73,
      "outputs": []
    },
    {
      "cell_type": "code",
      "source": [
        "a2.sum(axis=0) ## sum of columns"
      ],
      "metadata": {
        "colab": {
          "base_uri": "https://localhost:8080/"
        },
        "id": "qQAa1g0VXO_Q",
        "outputId": "35ee57f9-3ff9-4821-daf6-8e1c878060d8"
      },
      "execution_count": 75,
      "outputs": [
        {
          "output_type": "execute_result",
          "data": {
            "text/plain": [
              "array([13, 17, 19])"
            ]
          },
          "metadata": {},
          "execution_count": 75
        }
      ]
    },
    {
      "cell_type": "code",
      "source": [
        "a2.sum(axis=1) ## sum of rows"
      ],
      "metadata": {
        "colab": {
          "base_uri": "https://localhost:8080/"
        },
        "id": "zavffMqMXaGO",
        "outputId": "480b1b59-8aba-4fbd-8478-83296e3cfeba"
      },
      "execution_count": 76,
      "outputs": [
        {
          "output_type": "execute_result",
          "data": {
            "text/plain": [
              "array([12, 15, 22])"
            ]
          },
          "metadata": {},
          "execution_count": 76
        }
      ]
    },
    {
      "cell_type": "code",
      "source": [
        "a2.T ##transpose"
      ],
      "metadata": {
        "colab": {
          "base_uri": "https://localhost:8080/"
        },
        "id": "og1xgQeFXl-q",
        "outputId": "c0a8c2f0-52e7-4dc2-96af-156e1a3df200"
      },
      "execution_count": 77,
      "outputs": [
        {
          "output_type": "execute_result",
          "data": {
            "text/plain": [
              "array([[2, 5, 6],\n",
              "       [4, 4, 9],\n",
              "       [6, 6, 7]])"
            ]
          },
          "metadata": {},
          "execution_count": 77
        }
      ]
    },
    {
      "cell_type": "code",
      "source": [
        "for _ in a2.flat: ##gives an iterator\n",
        "  print(_)"
      ],
      "metadata": {
        "colab": {
          "base_uri": "https://localhost:8080/"
        },
        "id": "EuCMybdbXvag",
        "outputId": "e8b8b65d-8d7b-4966-8045-d7113db046ce"
      },
      "execution_count": 79,
      "outputs": [
        {
          "output_type": "stream",
          "name": "stdout",
          "text": [
            "2\n",
            "4\n",
            "6\n",
            "5\n",
            "4\n",
            "6\n",
            "6\n",
            "9\n",
            "7\n"
          ]
        }
      ]
    },
    {
      "cell_type": "code",
      "source": [
        "a2.ndim # show the dimention"
      ],
      "metadata": {
        "colab": {
          "base_uri": "https://localhost:8080/"
        },
        "id": "0aDcc1RQX1qs",
        "outputId": "db2230a4-64f2-4d56-f442-acfa0e66821b"
      },
      "execution_count": 81,
      "outputs": [
        {
          "output_type": "execute_result",
          "data": {
            "text/plain": [
              "2"
            ]
          },
          "metadata": {},
          "execution_count": 81
        }
      ]
    },
    {
      "cell_type": "code",
      "source": [
        "a2.size # FOR SIZE"
      ],
      "metadata": {
        "colab": {
          "base_uri": "https://localhost:8080/"
        },
        "id": "zoC5l8nmYEgn",
        "outputId": "d0d19189-000d-4f3f-ae90-a3fcdbf91315"
      },
      "execution_count": 82,
      "outputs": [
        {
          "output_type": "execute_result",
          "data": {
            "text/plain": [
              "9"
            ]
          },
          "metadata": {},
          "execution_count": 82
        }
      ]
    },
    {
      "cell_type": "code",
      "source": [
        "a2.nbytes # total bytes consumed"
      ],
      "metadata": {
        "colab": {
          "base_uri": "https://localhost:8080/"
        },
        "id": "sgsqEjqKYIQR",
        "outputId": "4134454d-9297-4280-882c-188532fc3e85"
      },
      "execution_count": 83,
      "outputs": [
        {
          "output_type": "execute_result",
          "data": {
            "text/plain": [
              "72"
            ]
          },
          "metadata": {},
          "execution_count": 83
        }
      ]
    },
    {
      "cell_type": "code",
      "source": [
        "oo=np.array([54,34,545,34,54,2])"
      ],
      "metadata": {
        "id": "pXNdVrPtYWKg"
      },
      "execution_count": 84,
      "outputs": []
    },
    {
      "cell_type": "code",
      "source": [
        "oo.argmax() # index of maximum value"
      ],
      "metadata": {
        "colab": {
          "base_uri": "https://localhost:8080/"
        },
        "id": "N-ne9JxOYb46",
        "outputId": "77cd72b1-c6b8-4c0d-9b98-cf63dd40ef0d"
      },
      "execution_count": 85,
      "outputs": [
        {
          "output_type": "execute_result",
          "data": {
            "text/plain": [
              "np.int64(2)"
            ]
          },
          "metadata": {},
          "execution_count": 85
        }
      ]
    },
    {
      "cell_type": "code",
      "source": [
        "oo.argmin() #index of minimum value"
      ],
      "metadata": {
        "colab": {
          "base_uri": "https://localhost:8080/"
        },
        "id": "MXkgeyFWYnnA",
        "outputId": "ac4d173b-37ad-4eb7-8391-ca742ca10414"
      },
      "execution_count": 86,
      "outputs": [
        {
          "output_type": "execute_result",
          "data": {
            "text/plain": [
              "np.int64(5)"
            ]
          },
          "metadata": {},
          "execution_count": 86
        }
      ]
    },
    {
      "cell_type": "code",
      "source": [
        "oo.argsort() # sorting the index"
      ],
      "metadata": {
        "colab": {
          "base_uri": "https://localhost:8080/"
        },
        "id": "em-ZdGN3YtVy",
        "outputId": "4526cc8b-a627-43d2-be94-f876cbd9a045"
      },
      "execution_count": 89,
      "outputs": [
        {
          "output_type": "execute_result",
          "data": {
            "text/plain": [
              "array([5, 1, 3, 0, 4, 2])"
            ]
          },
          "metadata": {},
          "execution_count": 89
        }
      ]
    },
    {
      "cell_type": "code",
      "source": [
        "a2.argmax(axis=0)"
      ],
      "metadata": {
        "colab": {
          "base_uri": "https://localhost:8080/"
        },
        "id": "A7WTTcNDY3Il",
        "outputId": "c0c310f8-1a01-445e-a6ed-e724dd2e455f"
      },
      "execution_count": 90,
      "outputs": [
        {
          "output_type": "execute_result",
          "data": {
            "text/plain": [
              "array([2, 2, 2])"
            ]
          },
          "metadata": {},
          "execution_count": 90
        }
      ]
    },
    {
      "cell_type": "code",
      "source": [
        "a2.argmin(axis=1)"
      ],
      "metadata": {
        "colab": {
          "base_uri": "https://localhost:8080/"
        },
        "id": "mHeAE7yiZXV2",
        "outputId": "c68a4388-d4f4-4e39-d710-664b5cecc268"
      },
      "execution_count": 92,
      "outputs": [
        {
          "output_type": "execute_result",
          "data": {
            "text/plain": [
              "array([0, 1, 0])"
            ]
          },
          "metadata": {},
          "execution_count": 92
        }
      ]
    },
    {
      "cell_type": "code",
      "source": [
        "ar2=np.array([[23,5,6],\n",
        "             [2,64,6],\n",
        "             [4,7,5]])"
      ],
      "metadata": {
        "id": "ukS8R4cdaCn7"
      },
      "execution_count": 94,
      "outputs": []
    },
    {
      "cell_type": "code",
      "source": [
        "a2+ar2## normal matrix calculations made easy"
      ],
      "metadata": {
        "colab": {
          "base_uri": "https://localhost:8080/"
        },
        "id": "8aJ9RUrgaEPf",
        "outputId": "b44ab783-ded7-480c-9f8b-586a4642dd51"
      },
      "execution_count": 98,
      "outputs": [
        {
          "output_type": "execute_result",
          "data": {
            "text/plain": [
              "array([[25,  9, 12],\n",
              "       [ 7, 68, 12],\n",
              "       [10, 16, 12]])"
            ]
          },
          "metadata": {},
          "execution_count": 98
        }
      ]
    },
    {
      "cell_type": "code",
      "source": [
        "np.where(a2>2)"
      ],
      "metadata": {
        "colab": {
          "base_uri": "https://localhost:8080/"
        },
        "id": "XCfQaWiWapVg",
        "outputId": "0c904823-5a43-4f43-e1cf-1b8394dc32d8"
      },
      "execution_count": 101,
      "outputs": [
        {
          "output_type": "execute_result",
          "data": {
            "text/plain": [
              "(array([0, 0, 1, 1, 1, 2, 2, 2]), array([1, 2, 0, 1, 2, 0, 1, 2]))"
            ]
          },
          "metadata": {},
          "execution_count": 101
        }
      ]
    },
    {
      "cell_type": "code",
      "source": [
        "np.count_nonzero(a2)"
      ],
      "metadata": {
        "colab": {
          "base_uri": "https://localhost:8080/"
        },
        "id": "bNZKNM8tbS0q",
        "outputId": "8075a90a-7c4c-4968-fbd1-aeed168a5688"
      },
      "execution_count": 102,
      "outputs": [
        {
          "output_type": "execute_result",
          "data": {
            "text/plain": [
              "9"
            ]
          },
          "metadata": {},
          "execution_count": 102
        }
      ]
    },
    {
      "cell_type": "code",
      "source": [
        "temp=a2.tolist()\n",
        "temp"
      ],
      "metadata": {
        "colab": {
          "base_uri": "https://localhost:8080/"
        },
        "id": "J8Lwgs75b-7O",
        "outputId": "5738d724-e1f2-44f5-8f11-153f52993648"
      },
      "execution_count": 107,
      "outputs": [
        {
          "output_type": "execute_result",
          "data": {
            "text/plain": [
              "[[2, 4, 6], [5, 4, 6], [6, 9, 7]]"
            ]
          },
          "metadata": {},
          "execution_count": 107
        }
      ]
    },
    {
      "cell_type": "markdown",
      "source": [
        "###some examples"
      ],
      "metadata": {
        "id": "Y0PhpqZmdnHI"
      }
    },
    {
      "cell_type": "code",
      "source": [
        "# Question : Extract all odd numbers from array\n",
        "# input: arr = np.array([0, 1, 2, 3, 4, 5, 6, 7, 8, 9])\n",
        "# output: array([1, 3, 5, 7, 9])\n",
        "\n",
        "#Solution\n",
        "\n",
        "arr = np.arange(10)\n",
        "\n",
        "arr[arr%2 == 1]"
      ],
      "metadata": {
        "colab": {
          "base_uri": "https://localhost:8080/"
        },
        "id": "_O2CB3RjcT_d",
        "outputId": "7e72e97d-3e70-4e8e-9466-37bcb9f30668"
      },
      "execution_count": 108,
      "outputs": [
        {
          "output_type": "execute_result",
          "data": {
            "text/plain": [
              "array([1, 3, 5, 7, 9])"
            ]
          },
          "metadata": {},
          "execution_count": 108
        }
      ]
    },
    {
      "cell_type": "code",
      "source": [
        "# Question: Replace all odd numbers in arr with -1\n",
        "# input: arr = np.array([0, 1, 2, 3, 4, 5, 6, 7, 8, 9])\n",
        "# output: array([ 0, -1,  2, -1,  4, -1,  6, -1,  8, -1])\n",
        "\n",
        "# Solution\n",
        "\n",
        "arr = np.arange(10)\n",
        "\n",
        "arr[arr%2 == 1] = -1\n",
        "arr"
      ],
      "metadata": {
        "colab": {
          "base_uri": "https://localhost:8080/"
        },
        "id": "Mgx2e1HBcmgQ",
        "outputId": "90d854fd-a808-4a25-f15d-45fb9e9fefff"
      },
      "execution_count": 109,
      "outputs": [
        {
          "output_type": "execute_result",
          "data": {
            "text/plain": [
              "array([ 0, -1,  2, -1,  4, -1,  6, -1,  8, -1])"
            ]
          },
          "metadata": {},
          "execution_count": 109
        }
      ]
    },
    {
      "cell_type": "code",
      "source": [
        "# Question: Replace all odd numbers in arr with -1 without changing arr\n",
        "# input: arr = np.array([0, 1, 2, 3, 4, 5, 6, 7, 8, 9])\n",
        "# output: out\n",
        "# array([ 0, -1,  2, -1,  4, -1,  6, -1,  8, -1])\n",
        "# arr\n",
        "# array([0, 1, 2, 3, 4, 5, 6, 7, 8, 9])\n",
        "\n",
        "# Solution\n",
        "\n",
        "arr = np.arange(10)\n",
        "\n",
        "out = arr.copy()\n",
        "\n",
        "out[out%2 == 1] = -1\n",
        "\n",
        "print('Modified Array')\n",
        "out\n",
        "\n",
        "print('\\nOriginal Array')\n",
        "arr"
      ],
      "metadata": {
        "id": "M_rEa9S-cvgR"
      },
      "execution_count": null,
      "outputs": []
    },
    {
      "cell_type": "code",
      "source": [
        "# Question: Stack arrays a and b vertically\n",
        "# input: a = np.arange(10).reshape(2,-1)\n",
        "#        b = np.repeat(1, 10).reshape(2,-1)\n",
        "\n",
        "# output: array([[0, 1, 2, 3, 4],\n",
        "#                [5, 6, 7, 8, 9],\n",
        "#                [1, 1, 1, 1, 1],\n",
        "#                [1, 1, 1, 1, 1]])\n",
        "\n",
        "# Solution\n",
        "\n",
        "a = np.arange(10).reshape(2,-1)\n",
        "b = np.repeat(1, 10).reshape(2,-1)\n",
        "\n",
        "np.vstack([a,b])"
      ],
      "metadata": {
        "colab": {
          "base_uri": "https://localhost:8080/"
        },
        "id": "xKj09v55c151",
        "outputId": "bf5b57ad-b6a1-418a-a2ff-687477014833"
      },
      "execution_count": 110,
      "outputs": [
        {
          "output_type": "execute_result",
          "data": {
            "text/plain": [
              "array([[0, 1, 2, 3, 4],\n",
              "       [5, 6, 7, 8, 9],\n",
              "       [1, 1, 1, 1, 1],\n",
              "       [1, 1, 1, 1, 1]])"
            ]
          },
          "metadata": {},
          "execution_count": 110
        }
      ]
    },
    {
      "cell_type": "code",
      "source": [
        "# Question: Stack the arrays a and b horizontally.\n",
        "\n",
        "# Input: a = np.arange(10).reshape(2,-1)\n",
        "#        b = np.repeat(1, 10).reshape(2,-1)\n",
        "# Output: array([[0, 1, 2, 3, 4, 1, 1, 1, 1, 1],\n",
        "#                [5, 6, 7, 8, 9, 1, 1, 1, 1, 1]])\n",
        "\n",
        "\n",
        "# Solution:\n",
        "a = np.arange(10).reshape(2,-1)\n",
        "b = np.repeat(1, 10).reshape(2,-1)\n",
        "\n",
        "np.hstack([a,b])"
      ],
      "metadata": {
        "colab": {
          "base_uri": "https://localhost:8080/"
        },
        "id": "DP7hPs_Ec9Wq",
        "outputId": "1d2eb162-ef74-4c3b-c410-ebd3055d2145"
      },
      "execution_count": 111,
      "outputs": [
        {
          "output_type": "execute_result",
          "data": {
            "text/plain": [
              "array([[0, 1, 2, 3, 4, 1, 1, 1, 1, 1],\n",
              "       [5, 6, 7, 8, 9, 1, 1, 1, 1, 1]])"
            ]
          },
          "metadata": {},
          "execution_count": 111
        }
      ]
    },
    {
      "cell_type": "code",
      "source": [
        "# Question: Get the positions where elements of a and b match\n",
        "\n",
        "# Input: a = np.array([1,2,3,2,3,4,3,4,5,6])\n",
        "#        b = np.array([7,2,10,2,7,4,9,4,9,8])\n",
        "\n",
        "# Output: (array([1, 3, 5, 7]),)\n",
        "\n",
        "\n",
        "# Solution\n",
        "\n",
        "a = np.array([1,2,3,2,3,4,3,4,5,6])\n",
        "b = np.array([7,2,10,2,7,4,9,4,9,8])\n",
        "\n",
        "np.where(a == b)"
      ],
      "metadata": {
        "colab": {
          "base_uri": "https://localhost:8080/"
        },
        "id": "Zz-4Yr1BdD-s",
        "outputId": "9e2365d3-e513-4f84-8ff8-2d13094b6148"
      },
      "execution_count": 112,
      "outputs": [
        {
          "output_type": "execute_result",
          "data": {
            "text/plain": [
              "(array([1, 3, 5, 7]),)"
            ]
          },
          "metadata": {},
          "execution_count": 112
        }
      ]
    },
    {
      "cell_type": "code",
      "source": [
        "# Question: Get all items between 5 and 10 from a.\n",
        "\n",
        "# Input: a = np.array([2, 6, 1, 9, 10, 3, 27])\n",
        "# Output: (array([6, 9, 10]),)\n",
        "\n",
        "\n",
        "# Solution\n",
        "\n",
        "a = np.array([2, 6, 1, 9, 10, 3, 27])\n",
        "a[(a >= 5) & (a <= 10)]"
      ],
      "metadata": {
        "colab": {
          "base_uri": "https://localhost:8080/"
        },
        "id": "LBJkrgUUdZY0",
        "outputId": "88943cf3-693a-4bce-cf19-b5ae4d971d90"
      },
      "execution_count": 113,
      "outputs": [
        {
          "output_type": "execute_result",
          "data": {
            "text/plain": [
              "array([ 6,  9, 10])"
            ]
          },
          "metadata": {},
          "execution_count": 113
        }
      ]
    },
    {
      "cell_type": "code",
      "source": [
        "# Question: Reverse the rows of a 2D array arr.\n",
        "\n",
        "# Input:\n",
        "\n",
        "arr = np.arange(9).reshape(3,3)\n",
        "\n",
        "print('Original array')\n",
        "arr\n",
        "\n",
        "# Solution\n",
        "\n",
        "print(\"\\nModified array\")\n",
        "arr[::-1, :]"
      ],
      "metadata": {
        "colab": {
          "base_uri": "https://localhost:8080/"
        },
        "id": "tA7lnAk8deGu",
        "outputId": "9f33883b-edea-4fea-d0d8-8a840a28715c"
      },
      "execution_count": 114,
      "outputs": [
        {
          "output_type": "stream",
          "name": "stdout",
          "text": [
            "Original array\n",
            "\n",
            "Modified array\n"
          ]
        },
        {
          "output_type": "execute_result",
          "data": {
            "text/plain": [
              "array([[6, 7, 8],\n",
              "       [3, 4, 5],\n",
              "       [0, 1, 2]])"
            ]
          },
          "metadata": {},
          "execution_count": 114
        }
      ]
    }
  ]
}